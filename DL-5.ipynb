{
 "cells": [
  {
   "cell_type": "code",
   "execution_count": 31,
   "id": "710c44a3-435b-45be-a3be-f9831724789b",
   "metadata": {},
   "outputs": [],
   "source": [
    "import random\n",
    "import nltk\n",
    "import string\n",
    "from gensim.models import Word2Vec\n",
    "from nltk.corpus import stopwords\n",
    "from nltk.tokenize import word_tokenize"
   ]
  },
  {
   "cell_type": "code",
   "execution_count": 32,
   "id": "d4d5e35c-c4e5-4a77-b7bd-42ef1f0a4ae5",
   "metadata": {},
   "outputs": [
    {
     "name": "stderr",
     "output_type": "stream",
     "text": [
      "[nltk_data] Error loading stopwords: <urlopen error [Errno -3]\n",
      "[nltk_data]     Temporary failure in name resolution>\n"
     ]
    },
    {
     "data": {
      "text/plain": [
       "False"
      ]
     },
     "execution_count": 32,
     "metadata": {},
     "output_type": "execute_result"
    }
   ],
   "source": [
    "nltk.download(\"stopwords\")\n"
   ]
  },
  {
   "cell_type": "code",
   "execution_count": 33,
   "id": "9107b48a-9c1f-4ebe-b574-f781e50cf6b5",
   "metadata": {},
   "outputs": [
    {
     "name": "stderr",
     "output_type": "stream",
     "text": [
      "[nltk_data] Error loading punkt_tab: <urlopen error [Errno -3]\n",
      "[nltk_data]     Temporary failure in name resolution>\n"
     ]
    },
    {
     "data": {
      "text/plain": [
       "False"
      ]
     },
     "execution_count": 33,
     "metadata": {},
     "output_type": "execute_result"
    }
   ],
   "source": [
    "nltk.download(\"punkt_tab\")"
   ]
  },
  {
   "cell_type": "code",
   "execution_count": 34,
   "id": "579d0a5e-ab8b-4e41-8d3b-36a101af58f0",
   "metadata": {},
   "outputs": [],
   "source": [
    "def pre_process(text):\n",
    "    tokens=word_tokenize(text.lower())\n",
    "    stop_words=set(stopwords.words('english'))\n",
    "    tokens=[word for word in tokens if word.isalpha() and word not in stop_words and word not in string.punctuation]\n",
    "    return tokens"
   ]
  },
  {
   "cell_type": "code",
   "execution_count": 35,
   "id": "7563456b-71aa-445f-9ddf-cca0c23fee78",
   "metadata": {},
   "outputs": [],
   "source": [
    "\n",
    "# Sample text for training the CBOW model\n",
    "text = \"Deep learning (also known as deep structured learning) is part of a broader family of machine learning methods based on artificial neural networks with representation learning. Learning can be supervised, semi-supervised or unsupervised. Deep-learning architectures such as deep neural networks, deep belief networks, deep reinforcement learning, recurrent neural networks, convolutional neural networks and Transformers have been applied to fields including computer vision, speech recognition, natural language processing, machine translation, bioinformatics, drug design, medical image analysis, climate science, material inspection and board game programs, where they have produced results comparable to and in some cases surpassing human expert performance.\"\n"
   ]
  },
  {
   "cell_type": "code",
   "execution_count": 36,
   "id": "c1a7912e-63e7-45f1-9976-b2b9b23ece61",
   "metadata": {},
   "outputs": [
    {
     "name": "stdout",
     "output_type": "stream",
     "text": [
      "['deep', 'learning', 'known', 'deep']\n",
      "also\n",
      "*******************\n",
      "['learning', 'also', 'deep', 'structured']\n",
      "known\n",
      "*******************\n",
      "['also', 'known', 'structured', 'learning']\n",
      "deep\n",
      "*******************\n",
      "['known', 'deep', 'learning', 'part']\n",
      "structured\n",
      "*******************\n",
      "['deep', 'structured', 'part', 'broader']\n",
      "learning\n",
      "*******************\n",
      "['structured', 'learning', 'broader', 'family']\n",
      "part\n",
      "*******************\n",
      "['learning', 'part', 'family', 'machine']\n",
      "broader\n",
      "*******************\n",
      "['part', 'broader', 'machine', 'learning']\n",
      "family\n",
      "*******************\n",
      "['broader', 'family', 'learning', 'methods']\n",
      "machine\n",
      "*******************\n",
      "['family', 'machine', 'methods', 'based']\n",
      "learning\n",
      "*******************\n",
      "['machine', 'learning', 'based', 'artificial']\n",
      "methods\n",
      "*******************\n",
      "['learning', 'methods', 'artificial', 'neural']\n",
      "based\n",
      "*******************\n",
      "['methods', 'based', 'neural', 'networks']\n",
      "artificial\n",
      "*******************\n",
      "['based', 'artificial', 'networks', 'representation']\n",
      "neural\n",
      "*******************\n",
      "['artificial', 'neural', 'representation', 'learning']\n",
      "networks\n",
      "*******************\n",
      "['neural', 'networks', 'learning', 'learning']\n",
      "representation\n",
      "*******************\n",
      "['networks', 'representation', 'learning', 'supervised']\n",
      "learning\n",
      "*******************\n",
      "['representation', 'learning', 'supervised', 'unsupervised']\n",
      "learning\n",
      "*******************\n",
      "['learning', 'learning', 'unsupervised', 'architectures']\n",
      "supervised\n",
      "*******************\n",
      "['learning', 'supervised', 'architectures', 'deep']\n",
      "unsupervised\n",
      "*******************\n",
      "['supervised', 'unsupervised', 'deep', 'neural']\n",
      "architectures\n",
      "*******************\n",
      "['unsupervised', 'architectures', 'neural', 'networks']\n",
      "deep\n",
      "*******************\n",
      "['architectures', 'deep', 'networks', 'deep']\n",
      "neural\n",
      "*******************\n",
      "['deep', 'neural', 'deep', 'belief']\n",
      "networks\n",
      "*******************\n",
      "['neural', 'networks', 'belief', 'networks']\n",
      "deep\n",
      "*******************\n",
      "['networks', 'deep', 'networks', 'deep']\n",
      "belief\n",
      "*******************\n",
      "['deep', 'belief', 'deep', 'reinforcement']\n",
      "networks\n",
      "*******************\n",
      "['belief', 'networks', 'reinforcement', 'learning']\n",
      "deep\n",
      "*******************\n",
      "['networks', 'deep', 'learning', 'recurrent']\n",
      "reinforcement\n",
      "*******************\n",
      "['deep', 'reinforcement', 'recurrent', 'neural']\n",
      "learning\n",
      "*******************\n",
      "['reinforcement', 'learning', 'neural', 'networks']\n",
      "recurrent\n",
      "*******************\n",
      "['learning', 'recurrent', 'networks', 'convolutional']\n",
      "neural\n",
      "*******************\n",
      "['recurrent', 'neural', 'convolutional', 'neural']\n",
      "networks\n",
      "*******************\n",
      "['neural', 'networks', 'neural', 'networks']\n",
      "convolutional\n",
      "*******************\n",
      "['networks', 'convolutional', 'networks', 'transformers']\n",
      "neural\n",
      "*******************\n",
      "['convolutional', 'neural', 'transformers', 'applied']\n",
      "networks\n",
      "*******************\n",
      "['neural', 'networks', 'applied', 'fields']\n",
      "transformers\n",
      "*******************\n",
      "['networks', 'transformers', 'fields', 'including']\n",
      "applied\n",
      "*******************\n",
      "['transformers', 'applied', 'including', 'computer']\n",
      "fields\n",
      "*******************\n",
      "['applied', 'fields', 'computer', 'vision']\n",
      "including\n",
      "*******************\n",
      "['fields', 'including', 'vision', 'speech']\n",
      "computer\n",
      "*******************\n",
      "['including', 'computer', 'speech', 'recognition']\n",
      "vision\n",
      "*******************\n",
      "['computer', 'vision', 'recognition', 'natural']\n",
      "speech\n",
      "*******************\n",
      "['vision', 'speech', 'natural', 'language']\n",
      "recognition\n",
      "*******************\n",
      "['speech', 'recognition', 'language', 'processing']\n",
      "natural\n",
      "*******************\n",
      "['recognition', 'natural', 'processing', 'machine']\n",
      "language\n",
      "*******************\n",
      "['natural', 'language', 'machine', 'translation']\n",
      "processing\n",
      "*******************\n",
      "['language', 'processing', 'translation', 'bioinformatics']\n",
      "machine\n",
      "*******************\n",
      "['processing', 'machine', 'bioinformatics', 'drug']\n",
      "translation\n",
      "*******************\n",
      "['machine', 'translation', 'drug', 'design']\n",
      "bioinformatics\n",
      "*******************\n",
      "['translation', 'bioinformatics', 'design', 'medical']\n",
      "drug\n",
      "*******************\n",
      "['bioinformatics', 'drug', 'medical', 'image']\n",
      "design\n",
      "*******************\n",
      "['drug', 'design', 'image', 'analysis']\n",
      "medical\n",
      "*******************\n",
      "['design', 'medical', 'analysis', 'climate']\n",
      "image\n",
      "*******************\n",
      "['medical', 'image', 'climate', 'science']\n",
      "analysis\n",
      "*******************\n",
      "['image', 'analysis', 'science', 'material']\n",
      "climate\n",
      "*******************\n",
      "['analysis', 'climate', 'material', 'inspection']\n",
      "science\n",
      "*******************\n",
      "['climate', 'science', 'inspection', 'board']\n",
      "material\n",
      "*******************\n",
      "['science', 'material', 'board', 'game']\n",
      "inspection\n",
      "*******************\n",
      "['material', 'inspection', 'game', 'programs']\n",
      "board\n",
      "*******************\n",
      "['inspection', 'board', 'programs', 'produced']\n",
      "game\n",
      "*******************\n",
      "['board', 'game', 'produced', 'results']\n",
      "programs\n",
      "*******************\n",
      "['game', 'programs', 'results', 'comparable']\n",
      "produced\n",
      "*******************\n",
      "['programs', 'produced', 'comparable', 'cases']\n",
      "results\n",
      "*******************\n",
      "['produced', 'results', 'cases', 'surpassing']\n",
      "comparable\n",
      "*******************\n",
      "['results', 'comparable', 'surpassing', 'human']\n",
      "cases\n",
      "*******************\n",
      "['comparable', 'cases', 'human', 'expert']\n",
      "surpassing\n",
      "*******************\n",
      "['cases', 'surpassing', 'expert', 'performance']\n",
      "human\n",
      "*******************\n",
      "[['deep', 'learning', 'known', 'deep', 'also'], ['learning', 'also', 'deep', 'structured', 'known'], ['also', 'known', 'structured', 'learning', 'deep'], ['known', 'deep', 'learning', 'part', 'structured'], ['deep', 'structured', 'part', 'broader', 'learning'], ['structured', 'learning', 'broader', 'family', 'part'], ['learning', 'part', 'family', 'machine', 'broader'], ['part', 'broader', 'machine', 'learning', 'family'], ['broader', 'family', 'learning', 'methods', 'machine'], ['family', 'machine', 'methods', 'based', 'learning'], ['machine', 'learning', 'based', 'artificial', 'methods'], ['learning', 'methods', 'artificial', 'neural', 'based'], ['methods', 'based', 'neural', 'networks', 'artificial'], ['based', 'artificial', 'networks', 'representation', 'neural'], ['artificial', 'neural', 'representation', 'learning', 'networks'], ['neural', 'networks', 'learning', 'learning', 'representation'], ['networks', 'representation', 'learning', 'supervised', 'learning'], ['representation', 'learning', 'supervised', 'unsupervised', 'learning'], ['learning', 'learning', 'unsupervised', 'architectures', 'supervised'], ['learning', 'supervised', 'architectures', 'deep', 'unsupervised'], ['supervised', 'unsupervised', 'deep', 'neural', 'architectures'], ['unsupervised', 'architectures', 'neural', 'networks', 'deep'], ['architectures', 'deep', 'networks', 'deep', 'neural'], ['deep', 'neural', 'deep', 'belief', 'networks'], ['neural', 'networks', 'belief', 'networks', 'deep'], ['networks', 'deep', 'networks', 'deep', 'belief'], ['deep', 'belief', 'deep', 'reinforcement', 'networks'], ['belief', 'networks', 'reinforcement', 'learning', 'deep'], ['networks', 'deep', 'learning', 'recurrent', 'reinforcement'], ['deep', 'reinforcement', 'recurrent', 'neural', 'learning'], ['reinforcement', 'learning', 'neural', 'networks', 'recurrent'], ['learning', 'recurrent', 'networks', 'convolutional', 'neural'], ['recurrent', 'neural', 'convolutional', 'neural', 'networks'], ['neural', 'networks', 'neural', 'networks', 'convolutional'], ['networks', 'convolutional', 'networks', 'transformers', 'neural'], ['convolutional', 'neural', 'transformers', 'applied', 'networks'], ['neural', 'networks', 'applied', 'fields', 'transformers'], ['networks', 'transformers', 'fields', 'including', 'applied'], ['transformers', 'applied', 'including', 'computer', 'fields'], ['applied', 'fields', 'computer', 'vision', 'including'], ['fields', 'including', 'vision', 'speech', 'computer'], ['including', 'computer', 'speech', 'recognition', 'vision'], ['computer', 'vision', 'recognition', 'natural', 'speech'], ['vision', 'speech', 'natural', 'language', 'recognition'], ['speech', 'recognition', 'language', 'processing', 'natural'], ['recognition', 'natural', 'processing', 'machine', 'language'], ['natural', 'language', 'machine', 'translation', 'processing'], ['language', 'processing', 'translation', 'bioinformatics', 'machine'], ['processing', 'machine', 'bioinformatics', 'drug', 'translation'], ['machine', 'translation', 'drug', 'design', 'bioinformatics'], ['translation', 'bioinformatics', 'design', 'medical', 'drug'], ['bioinformatics', 'drug', 'medical', 'image', 'design'], ['drug', 'design', 'image', 'analysis', 'medical'], ['design', 'medical', 'analysis', 'climate', 'image'], ['medical', 'image', 'climate', 'science', 'analysis'], ['image', 'analysis', 'science', 'material', 'climate'], ['analysis', 'climate', 'material', 'inspection', 'science'], ['climate', 'science', 'inspection', 'board', 'material'], ['science', 'material', 'board', 'game', 'inspection'], ['material', 'inspection', 'game', 'programs', 'board'], ['inspection', 'board', 'programs', 'produced', 'game'], ['board', 'game', 'produced', 'results', 'programs'], ['game', 'programs', 'results', 'comparable', 'produced'], ['programs', 'produced', 'comparable', 'cases', 'results'], ['produced', 'results', 'cases', 'surpassing', 'comparable'], ['results', 'comparable', 'surpassing', 'human', 'cases'], ['comparable', 'cases', 'human', 'expert', 'surpassing'], ['cases', 'surpassing', 'expert', 'performance', 'human']]\n"
     ]
    }
   ],
   "source": [
    "tokens=pre_process(text)\n",
    "training_data=[]\n",
    "context_size=2\n",
    "for i in range (context_size , len(tokens)-context_size):\n",
    "    context=tokens[i-context_size:i]+tokens[i+1:i+1+context_size]\n",
    "    target=tokens[i]\n",
    "    training_data.append(context+[target])\n",
    "    print(context)\n",
    "    print(target)\n",
    "    print(\"*******************\")\n",
    "\n",
    "print(training_data)"
   ]
  },
  {
   "cell_type": "code",
   "execution_count": 37,
   "id": "3bc62d9f-134b-4ca5-970f-473de0c3576d",
   "metadata": {},
   "outputs": [],
   "source": [
    "model=Word2Vec(sentences=training_data , vector_size=500 , sg=0 , min_count=1 , workers=4, window=context_size)"
   ]
  },
  {
   "cell_type": "code",
   "execution_count": 38,
   "id": "2e80a26c-ca05-40a8-a0e9-25a146924c63",
   "metadata": {},
   "outputs": [
    {
     "data": {
      "text/plain": [
       "(1901, 6800)"
      ]
     },
     "execution_count": 38,
     "metadata": {},
     "output_type": "execute_result"
    }
   ],
   "source": [
    "model.train(training_data , total_examples=len(training_data) , epochs=20)"
   ]
  },
  {
   "cell_type": "code",
   "execution_count": 45,
   "id": "867bd382-35f9-423e-b702-d44c53cce53f",
   "metadata": {},
   "outputs": [],
   "source": [
    "import random\n",
    "\n",
    "def predict():\n",
    "    i = random.randint(2, len(tokens) - 3)  # Ensure 'i' is in a safe range for indexing\n",
    "    prev_words = tokens[i-2:i]              # Two previous words\n",
    "    next_words = tokens[i+1:i+3]            # Two next words\n",
    "    \n",
    "    # Concatenate previous and next words to form the context\n",
    "    context_words = prev_words + next_words\n",
    "    print(f\"Context words are: {context_words}\")\n",
    "    \n",
    "    # Predict the word that fits in between the context words\n",
    "    predict_word = model.predict_output_word(context_words, topn=1)[0][0]\n",
    "    print(f\"Predicted target word is: {predict_word}\")\n",
    "    \n",
    "    # Find and print the most similar words to the predicted word\n",
    "    print(f\"Most similar words to: {predict_word}\")\n",
    "    similar_words = model.wv.most_similar(predict_word, topn=5)\n",
    "    for word, similarity in similar_words:\n",
    "        print(f\"{word}: {similarity}\")\n",
    "\n",
    "# Example usage:\n",
    "# predict()\n"
   ]
  },
  {
   "cell_type": "code",
   "execution_count": 46,
   "id": "c1f2c306-7bda-48d8-b0c7-b86405f6194a",
   "metadata": {},
   "outputs": [
    {
     "name": "stdout",
     "output_type": "stream",
     "text": [
      "Context words are: ['learning', 'part', 'family', 'machine']\n",
      "Predicted target word is: broader\n",
      "Most similar words to: broader\n",
      "convolutional: 0.10034147650003433\n",
      "drug: 0.08080064505338669\n",
      "belief: 0.08053091913461685\n",
      "surpassing: 0.07822605967521667\n",
      "design: 0.07703051716089249\n"
     ]
    }
   ],
   "source": [
    "predict()"
   ]
  },
  {
   "cell_type": "code",
   "execution_count": null,
   "id": "a5582a5a-a366-49e2-9d8c-4188892bd2dd",
   "metadata": {},
   "outputs": [],
   "source": []
  }
 ],
 "metadata": {
  "kernelspec": {
   "display_name": "Python 3 (ipykernel)",
   "language": "python",
   "name": "python3"
  },
  "language_info": {
   "codemirror_mode": {
    "name": "ipython",
    "version": 3
   },
   "file_extension": ".py",
   "mimetype": "text/x-python",
   "name": "python",
   "nbconvert_exporter": "python",
   "pygments_lexer": "ipython3",
   "version": "3.10.12"
  }
 },
 "nbformat": 4,
 "nbformat_minor": 5
}
