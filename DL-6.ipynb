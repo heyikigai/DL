{
 "cells": [
  {
   "cell_type": "code",
   "execution_count": 2,
   "id": "964967bb-aeaa-4eea-90fa-3f194454a168",
   "metadata": {},
   "outputs": [
    {
     "name": "stderr",
     "output_type": "stream",
     "text": [
      "2024-11-04 22:25:05.754206: I external/local_xla/xla/tsl/cuda/cudart_stub.cc:32] Could not find cuda drivers on your machine, GPU will not be used.\n",
      "2024-11-04 22:25:06.025724: I external/local_xla/xla/tsl/cuda/cudart_stub.cc:32] Could not find cuda drivers on your machine, GPU will not be used.\n",
      "2024-11-04 22:25:06.262868: E external/local_xla/xla/stream_executor/cuda/cuda_fft.cc:485] Unable to register cuFFT factory: Attempting to register factory for plugin cuFFT when one has already been registered\n",
      "2024-11-04 22:25:06.464122: E external/local_xla/xla/stream_executor/cuda/cuda_dnn.cc:8454] Unable to register cuDNN factory: Attempting to register factory for plugin cuDNN when one has already been registered\n",
      "2024-11-04 22:25:06.518417: E external/local_xla/xla/stream_executor/cuda/cuda_blas.cc:1452] Unable to register cuBLAS factory: Attempting to register factory for plugin cuBLAS when one has already been registered\n",
      "2024-11-04 22:25:06.930646: I tensorflow/core/platform/cpu_feature_guard.cc:210] This TensorFlow binary is optimized to use available CPU instructions in performance-critical operations.\n",
      "To enable the following instructions: AVX2 FMA, in other operations, rebuild TensorFlow with the appropriate compiler flags.\n",
      "2024-11-04 22:25:09.239971: W tensorflow/compiler/tf2tensorrt/utils/py_utils.cc:38] TF-TRT Warning: Could not find TensorRT\n"
     ]
    }
   ],
   "source": [
    "import tensorflow as tf\n",
    "import tensorflow_datasets as tfds\n",
    "from tensorflow.keras.utils import to_categorical"
   ]
  },
  {
   "cell_type": "code",
   "execution_count": 3,
   "id": "995e9418-1073-4ff1-a223-4f2e97bac515",
   "metadata": {},
   "outputs": [
    {
     "name": "stderr",
     "output_type": "stream",
     "text": [
      "2024-11-04 22:25:15.390596: W external/local_tsl/tsl/framework/cpu_allocator_impl.cc:83] Allocation of 3488249856 exceeds 10% of free system memory.\n",
      "2024-11-04 22:25:57.256968: W external/local_tsl/tsl/framework/cpu_allocator_impl.cc:83] Allocation of 1494964224 exceeds 10% of free system memory.\n"
     ]
    }
   ],
   "source": [
    "(train_ds , train_labels),(test_ds , test_labels)=tfds.load(\n",
    "    \"tf_flowers\" , split= [\"train[:70%]\" , \"train[:30%]\"] , batch_size=-1 , as_supervised=True\n",
    ")"
   ]
  },
  {
   "cell_type": "code",
   "execution_count": null,
   "id": "5381af9d-b124-451b-81a6-256eabd7189b",
   "metadata": {},
   "outputs": [
    {
     "name": "stderr",
     "output_type": "stream",
     "text": [
      "2024-11-04 22:26:22.732680: W external/local_tsl/tsl/framework/cpu_allocator_impl.cc:83] Allocation of 693630000 exceeds 10% of free system memory.\n"
     ]
    }
   ],
   "source": [
    "train_ds=tf.image.resize(train_ds,(150,150))"
   ]
  },
  {
   "cell_type": "code",
   "execution_count": null,
   "id": "8127dae4-7b46-430b-879b-45bc3ab8e6c9",
   "metadata": {},
   "outputs": [],
   "source": [
    "test_ds=tf.image.resize(test_ds , (150,150))"
   ]
  },
  {
   "cell_type": "code",
   "execution_count": null,
   "id": "f503eadc-acad-4825-864c-ea87c4493289",
   "metadata": {},
   "outputs": [],
   "source": [
    "train_labels=to_categorical(train_labels , num_classes=5)"
   ]
  },
  {
   "cell_type": "code",
   "execution_count": null,
   "id": "f3ba5d4f-737c-4de2-9c02-d32bda642689",
   "metadata": {},
   "outputs": [],
   "source": [
    "test_labels=to_categorical(test_labels , num_classes=5)"
   ]
  },
  {
   "cell_type": "code",
   "execution_count": null,
   "id": "7cc27556-9cd5-4418-9fe4-44254c4b9102",
   "metadata": {},
   "outputs": [],
   "source": [
    "train_ds.shape"
   ]
  },
  {
   "cell_type": "code",
   "execution_count": null,
   "id": "94b34067-99bc-4852-86c7-74345eeeff28",
   "metadata": {},
   "outputs": [],
   "source": [
    "test_ds.shape"
   ]
  },
  {
   "cell_type": "code",
   "execution_count": null,
   "id": "fbd2f461-8d37-4a2f-af40-ed177a4beaca",
   "metadata": {},
   "outputs": [],
   "source": [
    "train_labels.shape"
   ]
  },
  {
   "cell_type": "code",
   "execution_count": null,
   "id": "ed5db144-b2d9-4210-b3b5-f005fcd1e502",
   "metadata": {},
   "outputs": [],
   "source": [
    "test_labels.shape"
   ]
  },
  {
   "cell_type": "code",
   "execution_count": null,
   "id": "22788762-30f5-4221-b4ce-61e67eeff364",
   "metadata": {},
   "outputs": [],
   "source": [
    "from tensorflow.keras.applications.vgg16 import VGG16\n",
    "from tensorflow.keras.applications.vgg16 import preprocess_input"
   ]
  },
  {
   "cell_type": "code",
   "execution_count": null,
   "id": "af2d7211-94e4-423d-b8ac-05a0aeb361bd",
   "metadata": {},
   "outputs": [],
   "source": [
    "base_model=VGG16(weights=\"imagenet\" , include_top=False , input_shape=train_ds[0].shape)"
   ]
  },
  {
   "cell_type": "code",
   "execution_count": null,
   "id": "eda309e8-e997-4a35-96e3-ca9146f10677",
   "metadata": {},
   "outputs": [],
   "source": [
    "base_model.summary()"
   ]
  },
  {
   "cell_type": "code",
   "execution_count": null,
   "id": "1c2e40e7-982f-4bde-a3db-4abc9582bfe1",
   "metadata": {},
   "outputs": [],
   "source": [
    "base_model.trainable=False"
   ]
  },
  {
   "cell_type": "code",
   "execution_count": null,
   "id": "4c94700d-678b-4f46-a9cd-9ceeb1078322",
   "metadata": {},
   "outputs": [],
   "source": [
    "train_ds=preprocess_input(train_ds)"
   ]
  },
  {
   "cell_type": "code",
   "execution_count": null,
   "id": "86f18ecf-5555-4d7e-8306-9a05e8861ae8",
   "metadata": {},
   "outputs": [],
   "source": [
    "test_ds=preprocess_input(test_ds)"
   ]
  },
  {
   "cell_type": "code",
   "execution_count": null,
   "id": "0337df14-8e38-42f5-8087-7eb3f45b477c",
   "metadata": {},
   "outputs": [],
   "source": [
    "from tensorflow.keras.models import Sequential\n",
    "from tensorflow.keras.layers import Flatten , Dense"
   ]
  },
  {
   "cell_type": "code",
   "execution_count": null,
   "id": "433d2742-7154-44ff-98c1-9bacbe41b9f4",
   "metadata": {},
   "outputs": [],
   "source": [
    "Flatten_layer=Flatten()\n",
    "Dense_layer_1=Dense(50 , activation='relu')\n",
    "Dense_layer_2=Dense(20 , activation='relu')\n",
    "Last_layer=Dense(5 , activation='softmax')"
   ]
  },
  {
   "cell_type": "code",
   "execution_count": null,
   "id": "204fc0eb-e5ea-471d-97c7-b0eed061b25f",
   "metadata": {},
   "outputs": [],
   "source": [
    "model=Sequential([\n",
    "    base_model , \n",
    "    Flatten_layer,\n",
    "    Dense_layer_1,\n",
    "    Dense_layer_2,\n",
    "    Last_layer\n",
    "    \n",
    "])"
   ]
  },
  {
   "cell_type": "code",
   "execution_count": null,
   "id": "0c8842c8-12d7-4ffc-b4d8-faf48b23b27a",
   "metadata": {},
   "outputs": [],
   "source": [
    "model.summary()"
   ]
  },
  {
   "cell_type": "code",
   "execution_count": null,
   "id": "539619ae-3b6c-4b96-a144-08370032ecc6",
   "metadata": {},
   "outputs": [],
   "source": [
    "from tensorflow.keras.callbacks import EarlyStopping"
   ]
  },
  {
   "cell_type": "code",
   "execution_count": null,
   "id": "f028b239-a146-431b-b173-403a4865a2ed",
   "metadata": {},
   "outputs": [],
   "source": [
    "es=EarlyStopping(monitor='val_accuracy' , mode='max' , restore_best_weights=True , patience=5 )"
   ]
  },
  {
   "cell_type": "code",
   "execution_count": null,
   "id": "dda0c620-f807-4cfa-9b97-a79605d2e28f",
   "metadata": {},
   "outputs": [],
   "source": [
    "model.compile(optimizer='adam' , loss='categorical_crossentropy' , metrics=[\"accuracy\"])"
   ]
  },
  {
   "cell_type": "code",
   "execution_count": null,
   "id": "403a9173-a69b-4492-9007-f6d5c69b2183",
   "metadata": {},
   "outputs": [],
   "source": [
    "H=model.fit(train_ds , train_labels , validation_split=0.2 , epochs=1 , batch_size=34 , callbacks=es)"
   ]
  },
  {
   "cell_type": "code",
   "execution_count": null,
   "id": "30d9eaab-d934-4d1c-b05f-694b9b2969ac",
   "metadata": {},
   "outputs": [],
   "source": [
    "loss , accu=model.evaluate(test_ds , test_labels)\n",
    "print(loss)\n",
    "print(accu)"
   ]
  },
  {
   "cell_type": "code",
   "execution_count": null,
   "id": "054e93d9-01f1-4fd2-aa50-7f5777c22139",
   "metadata": {},
   "outputs": [],
   "source": [
    "import matplotlib.pyplot as plt"
   ]
  },
  {
   "cell_type": "code",
   "execution_count": null,
   "id": "ee5e3169-23dc-4fea-bcb7-1bac4c6d09a4",
   "metadata": {},
   "outputs": [],
   "source": [
    "plt.figure()\n",
    "plt.plot(H.history[\"accuracy\"])\n",
    "plt.title(\"Plot of accuracy vs epochs\")\n",
    "plt.xlabel(\"epochs\")\n",
    "plt.ylabel(\"accuracy\")\n",
    "\n",
    "plt.show()"
   ]
  },
  {
   "cell_type": "code",
   "execution_count": null,
   "id": "2cc5775a-da43-4776-8a97-fa6ebb8b8ca6",
   "metadata": {},
   "outputs": [],
   "source": [
    "import numpy as np\n",
    "import random\n"
   ]
  },
  {
   "cell_type": "code",
   "execution_count": null,
   "id": "e5c4ad9a-3776-4279-a34d-f875517e9308",
   "metadata": {},
   "outputs": [],
   "source": [
    "class_names=['dandelions' , 'daisy' , 'tulips' , 'sunflowers' , 'roses']\n",
    "def prediction(model , test_images , test_labels , turn):\n",
    "    for i in range(0,turn):\n",
    "            random_idx=random.randint(0,test_images.shape[0])\n",
    "            random_img=test_images[random_idx]\n",
    "            random_labels=test_labels[random_idx].numpy()\n",
    "        \n",
    "            plt.imshow(random_img/255.0)\n",
    "            plt.axis('off')\n",
    "            plt.show()\n",
    "        \n",
    "            img_batch=np.expand_dims(random_img , axis=0)\n",
    "            prediction=model.predict(img_batch)\n",
    "            prediction_probabilities=prediction[0]\n",
    "        \n",
    "            for i,class_name in enumerate(class_names):\n",
    "                print(f\"{class_name}:{prediction_probabilities[i]*100:.2f}\")\n",
    "        \n",
    "            ans=np.argmax(prediction_probabilities)\n",
    "            predicted_flower=class_names[ans]\n",
    "        \n",
    "            print(\"our model says it is:\" , predicted_flower)\n",
    "\n",
    "\n",
    "prediction(model , test_ds ,test_labels , 3)\n",
    "        "
   ]
  },
  {
   "cell_type": "code",
   "execution_count": null,
   "id": "2a8f30d0-4eee-4798-9eda-4cc9808d3d14",
   "metadata": {},
   "outputs": [],
   "source": []
  },
  {
   "cell_type": "code",
   "execution_count": null,
   "id": "b03d4952-366b-497b-8218-481ea7efdee8",
   "metadata": {},
   "outputs": [],
   "source": []
  },
  {
   "cell_type": "code",
   "execution_count": null,
   "id": "be2d7da2-17b1-4b52-9801-9c9a26e23a31",
   "metadata": {},
   "outputs": [],
   "source": []
  },
  {
   "cell_type": "code",
   "execution_count": null,
   "id": "7fabc4fd-2132-4cbb-8112-a3b142c653d2",
   "metadata": {},
   "outputs": [],
   "source": []
  },
  {
   "cell_type": "code",
   "execution_count": null,
   "id": "6c6cc2b9-e17d-43d5-8d6c-bfd062dee45d",
   "metadata": {},
   "outputs": [],
   "source": []
  },
  {
   "cell_type": "code",
   "execution_count": null,
   "id": "9b36bafa-e2a1-4c0f-9ec0-f761167eb63d",
   "metadata": {},
   "outputs": [],
   "source": []
  },
  {
   "cell_type": "code",
   "execution_count": null,
   "id": "647d6f3c-7548-47c3-a5dc-c982b6994284",
   "metadata": {},
   "outputs": [],
   "source": []
  },
  {
   "cell_type": "code",
   "execution_count": null,
   "id": "530034a3-8c31-4845-b2e5-dc54fb938b69",
   "metadata": {},
   "outputs": [],
   "source": []
  },
  {
   "cell_type": "code",
   "execution_count": null,
   "id": "4306edcd-7cd4-432d-be04-27921032d7fd",
   "metadata": {},
   "outputs": [],
   "source": []
  },
  {
   "cell_type": "code",
   "execution_count": null,
   "id": "008410b0-83a2-45fe-864d-20ec07643624",
   "metadata": {},
   "outputs": [],
   "source": []
  }
 ],
 "metadata": {
  "kernelspec": {
   "display_name": "Python 3 (ipykernel)",
   "language": "python",
   "name": "python3"
  },
  "language_info": {
   "codemirror_mode": {
    "name": "ipython",
    "version": 3
   },
   "file_extension": ".py",
   "mimetype": "text/x-python",
   "name": "python",
   "nbconvert_exporter": "python",
   "pygments_lexer": "ipython3",
   "version": "3.10.12"
  }
 },
 "nbformat": 4,
 "nbformat_minor": 5
}
